{
 "cells": [
  {
   "cell_type": "code",
   "execution_count": 1,
   "metadata": {},
   "outputs": [],
   "source": [
    "import timeit\n",
    "from math import factorial\n",
    "from itertools import combinations_with_replacement"
   ]
  },
  {
   "cell_type": "markdown",
   "metadata": {},
   "source": [
    "# Helper Functions"
   ]
  },
  {
   "cell_type": "code",
   "execution_count": 2,
   "metadata": {},
   "outputs": [],
   "source": [
    "def digits_to_int(digits):\n",
    "    num = 0\n",
    "    for k, n in enumerate(digits[::-1]):\n",
    "        num += n * 10**k\n",
    "    return num\n",
    "\n",
    "\n",
    "def int_to_digits(num, sorted=False):\n",
    "    digits = []\n",
    "    n = num\n",
    "\n",
    "    while n > 0:\n",
    "        z = len(digits) + 1\n",
    "        d = (n % 10**z)\n",
    "        div = 10**(z-1)\n",
    "        digits.append(int(d / div))\n",
    "        n = n - d\n",
    "    return tuple(digits[::-1])"
   ]
  },
  {
   "cell_type": "markdown",
   "metadata": {},
   "source": [
    "# Narcissistic Sum"
   ]
  },
  {
   "cell_type": "code",
   "execution_count": 3,
   "metadata": {},
   "outputs": [],
   "source": [
    "def narcissistic_sum(n):\n",
    "    if isinstance(n, int):\n",
    "        n = int_to_digits(n)\n",
    "    sum = 0\n",
    "    for i in n:\n",
    "        sum += i**len(n)\n",
    "    return sum"
   ]
  },
  {
   "cell_type": "markdown",
   "metadata": {},
   "source": [
    "# Naive Implementation"
   ]
  },
  {
   "cell_type": "code",
   "execution_count": 4,
   "metadata": {},
   "outputs": [],
   "source": [
    "def find_narcissists(k):\n",
    "    narcissists = set()\n",
    "\n",
    "    for n in range(1, 10**k):\n",
    "        if narcissistic_sum(n) == n:\n",
    "            narcissists.add(n)\n",
    "\n",
    "    return sorted(narcissists)"
   ]
  },
  {
   "cell_type": "markdown",
   "metadata": {},
   "source": [
    "# Efficient Implementation"
   ]
  },
  {
   "cell_type": "code",
   "execution_count": 5,
   "metadata": {},
   "outputs": [],
   "source": [
    "def find_narcissists_efficiently(k):\n",
    "    narcissists = set()\n",
    "    for l in range(1, k + 1):\n",
    "        for c in [tuple(sorted(i)) for i in combinations_with_replacement(range(0, 10), l)]:\n",
    "            sum = narcissistic_sum(c)\n",
    "            sum_tuple = tuple(sorted(int_to_digits(sum)))\n",
    "            if sum_tuple == c:\n",
    "                narcissists.add(sum)\n",
    "    return sorted(narcissists)"
   ]
  },
  {
   "cell_type": "markdown",
   "metadata": {},
   "source": [
    "# Time Comparison"
   ]
  },
  {
   "cell_type": "code",
   "execution_count": 6,
   "metadata": {},
   "outputs": [
    {
     "name": "stdout",
     "output_type": "stream",
     "text": [
      "naive: [1, 2, 3, 4, 5, 6, 7, 8, 9, 153, 370, 371, 407, 1634, 8208, 9474, 54748, 92727, 93084]\n",
      "naive: [1, 2, 3, 4, 5, 6, 7, 8, 9, 153, 370, 371, 407, 1634, 8208, 9474, 54748, 92727, 93084]\n",
      "naive: [1, 2, 3, 4, 5, 6, 7, 8, 9, 153, 370, 371, 407, 1634, 8208, 9474, 54748, 92727, 93084]\n",
      "naive: [1, 2, 3, 4, 5, 6, 7, 8, 9, 153, 370, 371, 407, 1634, 8208, 9474, 54748, 92727, 93084]\n",
      "naive: [1, 2, 3, 4, 5, 6, 7, 8, 9, 153, 370, 371, 407, 1634, 8208, 9474, 54748, 92727, 93084]\n",
      "efficient: [1, 2, 3, 4, 5, 6, 7, 8, 9, 153, 370, 371, 407, 1634, 8208, 9474, 54748, 92727, 93084]\n",
      "efficient: [1, 2, 3, 4, 5, 6, 7, 8, 9, 153, 370, 371, 407, 1634, 8208, 9474, 54748, 92727, 93084]\n",
      "efficient: [1, 2, 3, 4, 5, 6, 7, 8, 9, 153, 370, 371, 407, 1634, 8208, 9474, 54748, 92727, 93084]\n",
      "efficient: [1, 2, 3, 4, 5, 6, 7, 8, 9, 153, 370, 371, 407, 1634, 8208, 9474, 54748, 92727, 93084]\n",
      "efficient: [1, 2, 3, 4, 5, 6, 7, 8, 9, 153, 370, 371, 407, 1634, 8208, 9474, 54748, 92727, 93084]\n",
      "3.7874677970000006\n",
      "0.11617897100000008\n"
     ]
    }
   ],
   "source": [
    "naive_runtime_analysis = timeit.timeit('print(\"naive:\", find_narcissists(5))', globals=globals(), number=5)\n",
    "efficient_runtime_analysis = timeit.timeit('print(\"efficient:\", find_narcissists_efficiently(5))', globals=globals(), number=5)\n",
    "print(naive_runtime_analysis)\n",
    "print(efficient_runtime_analysis)"
   ]
  },
  {
   "cell_type": "markdown",
   "metadata": {},
   "source": [
    "# Performance Analysis"
   ]
  },
  {
   "cell_type": "markdown",
   "metadata": {},
   "source": [
    "The naive algorithm's execution time is `10^k - 1` where `k` is the maximum number of digits.\n",
    "\n",
    "The efficient algorithm's execution time is `k * (factorial(10 + k - 1) / factorial(k) / factorial(10 - 1))`. For each possible length of digits less than or equal to `k`, we get all combinations with replacement (meaning that a digit may be repeated more than once), which has a runtime of [`(factorial(10 + k - 1) / factorial(k) / factorial(10 - 1))`](https://docs.python.org/3/library/itertools.html) according to Python's documentation.\n",
    "\n",
    "If the largest narcissistic number is `115132219018763992565095597973971522401` (having 39 digits), then we need to calculate how long it would take to run the algorithms where `k = 39`."
   ]
  },
  {
   "cell_type": "code",
   "execution_count": 7,
   "metadata": {},
   "outputs": [],
   "source": [
    "def naive_runtime(k):\n",
    "    return 10**k - 1"
   ]
  },
  {
   "cell_type": "code",
   "execution_count": 8,
   "metadata": {},
   "outputs": [],
   "source": [
    "def efficient_runtime(k):\n",
    "    \"\"\"From https://docs.python.org/3/library/itertools.html\"\"\"\n",
    "    return k * (factorial(10 + k - 1) / factorial(k) / factorial(10 - 1))"
   ]
  },
  {
   "cell_type": "code",
   "execution_count": 9,
   "metadata": {},
   "outputs": [
    {
     "name": "stdout",
     "output_type": "stream",
     "text": [
      "3.7875056720567214e-05 2.6653188402940405e-13\n"
     ]
    }
   ],
   "source": [
    "naive_time_per_search_space = naive_runtime_analysis / (10**5 - 1)\n",
    "efficient_time_per_search_space = efficient_runtime_analysis / (5 * factorial(10 + 5 - 1))\n",
    "print (naive_time_per_search_space, efficient_time_per_search_space)"
   ]
  },
  {
   "cell_type": "code",
   "execution_count": 10,
   "metadata": {},
   "outputs": [
    {
     "name": "stdout",
     "output_type": "stream",
     "text": [
      "3.7875056720567214e-05\n"
     ]
    }
   ],
   "source": [
    "naive_runtime_per_computation = naive_runtime_analysis / naive_runtime(5)\n",
    "print(naive_runtime_per_computation)"
   ]
  },
  {
   "cell_type": "code",
   "execution_count": 11,
   "metadata": {},
   "outputs": [
    {
     "name": "stdout",
     "output_type": "stream",
     "text": [
      "1.1606290809190817e-05\n"
     ]
    }
   ],
   "source": [
    "efficient_runtime_per_computation = efficient_runtime_analysis / efficient_runtime(5)\n",
    "print(efficient_runtime_per_computation)"
   ]
  },
  {
   "cell_type": "code",
   "execution_count": 12,
   "metadata": {},
   "outputs": [],
   "source": [
    "seconds_in_a_day = 24 * 60 * 60"
   ]
  },
  {
   "cell_type": "code",
   "execution_count": 13,
   "metadata": {},
   "outputs": [],
   "source": [
    "days_in_a_year = 365.25"
   ]
  },
  {
   "cell_type": "code",
   "execution_count": 14,
   "metadata": {},
   "outputs": [
    {
     "data": {
      "text/plain": [
       "1.2001881233226612e+27"
      ]
     },
     "execution_count": 14,
     "metadata": {},
     "output_type": "execute_result"
    }
   ],
   "source": [
    "naive_runtime(39) * naive_runtime_per_computation / seconds_in_a_day / days_in_a_year"
   ]
  },
  {
   "cell_type": "code",
   "execution_count": 15,
   "metadata": {},
   "outputs": [
    {
     "data": {
      "text/plain": [
       "8.786279026536235"
      ]
     },
     "execution_count": 15,
     "metadata": {},
     "output_type": "execute_result"
    }
   ],
   "source": [
    "efficient_runtime(39) * efficient_runtime_per_computation / seconds_in_a_day"
   ]
  },
  {
   "cell_type": "markdown",
   "metadata": {},
   "source": [
    "So, it would take about 2.5^26 years to calculate all narcissistic numbers with the naive algorithm but it would take only a few days to calculate all of them with the efficient algorithm."
   ]
  },
  {
   "cell_type": "code",
   "execution_count": null,
   "metadata": {},
   "outputs": [],
   "source": []
  },
  {
   "cell_type": "code",
   "execution_count": null,
   "metadata": {},
   "outputs": [],
   "source": []
  }
 ],
 "metadata": {
  "kernelspec": {
   "display_name": "Python 3",
   "language": "python",
   "name": "python3"
  },
  "language_info": {
   "codemirror_mode": {
    "name": "ipython",
    "version": 3
   },
   "file_extension": ".py",
   "mimetype": "text/x-python",
   "name": "python",
   "nbconvert_exporter": "python",
   "pygments_lexer": "ipython3",
   "version": "3.7.0"
  }
 },
 "nbformat": 4,
 "nbformat_minor": 2
}
